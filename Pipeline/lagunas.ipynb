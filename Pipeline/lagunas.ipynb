{
 "cells": [
  {
   "cell_type": "code",
   "execution_count": 26,
   "metadata": {},
   "outputs": [],
   "source": [
    "import pandas as pd"
   ]
  },
  {
   "cell_type": "code",
   "execution_count": 27,
   "metadata": {},
   "outputs": [],
   "source": [
    "pd.set_option('display.max_columns', None)  # None muestra todas las columnas\n",
    "\n",
    "# Establecer el ancho de las columnas para que no se trunque el contenido\n",
    "pd.set_option('display.max_colwidth', None)"
   ]
  },
  {
   "cell_type": "code",
   "execution_count": 28,
   "metadata": {},
   "outputs": [],
   "source": [
    "def get_unique_categories(path):\n",
    "    dataset = pd.read_parquet(path)\n",
    "    dataset['category2'] = dataset['category'].apply(lambda lst: pd.Series(lst).to_list())\n",
    "    dataset['categories'] = dataset['category2'].apply(lambda x: ', '.join(x))\n",
    "    data = dataset[['identificador','categories']]\n",
    "    unique_categories = set()\n",
    "    for categories in data['categories']:\n",
    "        unique_categories.update(categories.split(', '))\n",
    "    df = pd.DataFrame({'categories': list(unique_categories)})\n",
    "    return df"
   ]
  },
  {
   "cell_type": "code",
   "execution_count": 29,
   "metadata": {},
   "outputs": [
    {
     "name": "stdout",
     "output_type": "stream",
     "text": [
      "Largo: 4006, tipo: <class 'pandas.core.frame.DataFrame'>\n"
     ]
    }
   ],
   "source": [
    "california = get_unique_categories('CaliforniaFinalCorregido.parquet')\n",
    "print(f'Largo: {len(california)}, tipo: {type(california)}')"
   ]
  },
  {
   "cell_type": "code",
   "execution_count": 30,
   "metadata": {},
   "outputs": [
    {
     "name": "stdout",
     "output_type": "stream",
     "text": [
      "Largo: 4102, tipo: <class 'pandas.core.frame.DataFrame'>\n"
     ]
    }
   ],
   "source": [
    "florida = get_unique_categories('FloridaFinalCorregido.parquet')\n",
    "print(f'Largo: {len(florida)}, tipo: {type(florida)}')"
   ]
  },
  {
   "cell_type": "code",
   "execution_count": 31,
   "metadata": {},
   "outputs": [
    {
     "name": "stdout",
     "output_type": "stream",
     "text": [
      "Largo: 3284, tipo: <class 'pandas.core.frame.DataFrame'>\n"
     ]
    }
   ],
   "source": [
    "illinois = get_unique_categories('IllinoisFinalCorregido.parquet')\n",
    "print(f'Largo: {len(illinois)}, tipo: {type(illinois)}')"
   ]
  },
  {
   "cell_type": "code",
   "execution_count": 32,
   "metadata": {},
   "outputs": [
    {
     "name": "stdout",
     "output_type": "stream",
     "text": [
      "Largo: 2979, tipo: <class 'pandas.core.frame.DataFrame'>\n"
     ]
    }
   ],
   "source": [
    "texas = get_unique_categories('TexasFinalCorregido.parquet')\n",
    "print(f'Largo: {len(texas)}, tipo: {type(texas)}')"
   ]
  },
  {
   "cell_type": "code",
   "execution_count": 33,
   "metadata": {},
   "outputs": [
    {
     "name": "stdout",
     "output_type": "stream",
     "text": [
      "Largo: 2957, tipo: <class 'pandas.core.frame.DataFrame'>\n"
     ]
    }
   ],
   "source": [
    "new_york = get_unique_categories('NewYorkFinalCorregido.parquet')\n",
    "print(f'Largo: {len(new_york)}, tipo: {type(new_york)}')"
   ]
  },
  {
   "cell_type": "code",
   "execution_count": 34,
   "metadata": {},
   "outputs": [
    {
     "name": "stdout",
     "output_type": "stream",
     "text": [
      "Largo: 17328, tipo: <class 'pandas.core.frame.DataFrame'>\n"
     ]
    }
   ],
   "source": [
    "total = pd.concat([california, florida, illinois, texas, new_york], ignore_index=True)\n",
    "print(f'Largo: {len(total)}, tipo: {type(total)}')\n"
   ]
  },
  {
   "cell_type": "code",
   "execution_count": 35,
   "metadata": {},
   "outputs": [
    {
     "data": {
      "text/html": [
       "<div>\n",
       "<style scoped>\n",
       "    .dataframe tbody tr th:only-of-type {\n",
       "        vertical-align: middle;\n",
       "    }\n",
       "\n",
       "    .dataframe tbody tr th {\n",
       "        vertical-align: top;\n",
       "    }\n",
       "\n",
       "    .dataframe thead th {\n",
       "        text-align: right;\n",
       "    }\n",
       "</style>\n",
       "<table border=\"1\" class=\"dataframe\">\n",
       "  <thead>\n",
       "    <tr style=\"text-align: right;\">\n",
       "      <th></th>\n",
       "      <th>categories</th>\n",
       "    </tr>\n",
       "  </thead>\n",
       "  <tbody>\n",
       "    <tr>\n",
       "      <th>0</th>\n",
       "      <td></td>\n",
       "    </tr>\n",
       "    <tr>\n",
       "      <th>1</th>\n",
       "      <td>Osteopath</td>\n",
       "    </tr>\n",
       "    <tr>\n",
       "      <th>2</th>\n",
       "      <td>Sport tour agency</td>\n",
       "    </tr>\n",
       "    <tr>\n",
       "      <th>3</th>\n",
       "      <td>Bottled water supplier</td>\n",
       "    </tr>\n",
       "    <tr>\n",
       "      <th>4</th>\n",
       "      <td>Career guidance service</td>\n",
       "    </tr>\n",
       "  </tbody>\n",
       "</table>\n",
       "</div>"
      ],
      "text/plain": [
       "                categories\n",
       "0                         \n",
       "1                Osteopath\n",
       "2        Sport tour agency\n",
       "3   Bottled water supplier\n",
       "4  Career guidance service"
      ]
     },
     "execution_count": 35,
     "metadata": {},
     "output_type": "execute_result"
    }
   ],
   "source": [
    "total.head()"
   ]
  },
  {
   "cell_type": "code",
   "execution_count": 36,
   "metadata": {},
   "outputs": [
    {
     "name": "stdout",
     "output_type": "stream",
     "text": [
      "Largo: 4904, tipo: <class 'pandas.core.frame.DataFrame'>\n"
     ]
    }
   ],
   "source": [
    "unicos = total.drop_duplicates()\n",
    "print(f'Largo: {len(unicos)}, tipo: {type(unicos)}')"
   ]
  },
  {
   "cell_type": "code",
   "execution_count": 37,
   "metadata": {},
   "outputs": [],
   "source": [
    "unicos.to_csv('totales.csv', index=False)"
   ]
  },
  {
   "cell_type": "code",
   "execution_count": 16,
   "metadata": {},
   "outputs": [
    {
     "data": {
      "text/html": [
       "<div>\n",
       "<style scoped>\n",
       "    .dataframe tbody tr th:only-of-type {\n",
       "        vertical-align: middle;\n",
       "    }\n",
       "\n",
       "    .dataframe tbody tr th {\n",
       "        vertical-align: top;\n",
       "    }\n",
       "\n",
       "    .dataframe thead th {\n",
       "        text-align: right;\n",
       "    }\n",
       "</style>\n",
       "<table border=\"1\" class=\"dataframe\">\n",
       "  <thead>\n",
       "    <tr style=\"text-align: right;\">\n",
       "      <th></th>\n",
       "      <th>categories</th>\n",
       "    </tr>\n",
       "  </thead>\n",
       "  <tbody>\n",
       "    <tr>\n",
       "      <th>0</th>\n",
       "      <td></td>\n",
       "    </tr>\n",
       "    <tr>\n",
       "      <th>1</th>\n",
       "      <td>School bus service</td>\n",
       "    </tr>\n",
       "    <tr>\n",
       "      <th>2</th>\n",
       "      <td>Car finance and loan company</td>\n",
       "    </tr>\n",
       "    <tr>\n",
       "      <th>3</th>\n",
       "      <td>Group accommodation</td>\n",
       "    </tr>\n",
       "    <tr>\n",
       "      <th>4</th>\n",
       "      <td>Commercial refrigeration</td>\n",
       "    </tr>\n",
       "  </tbody>\n",
       "</table>\n",
       "</div>"
      ],
      "text/plain": [
       "                     categories\n",
       "0                              \n",
       "1            School bus service\n",
       "2  Car finance and loan company\n",
       "3           Group accommodation\n",
       "4      Commercial refrigeration"
      ]
     },
     "execution_count": 16,
     "metadata": {},
     "output_type": "execute_result"
    }
   ],
   "source": [
    "unicos.head()"
   ]
  },
  {
   "cell_type": "markdown",
   "metadata": {},
   "source": [
    "#chatgpt"
   ]
  },
  {
   "cell_type": "code",
   "execution_count": 15,
   "metadata": {},
   "outputs": [],
   "source": [
    "#%pip install openai"
   ]
  },
  {
   "cell_type": "code",
   "execution_count": 38,
   "metadata": {},
   "outputs": [],
   "source": [
    "import openai\n",
    "openai.api_key  = 'TOKEN'"
   ]
  },
  {
   "cell_type": "code",
   "execution_count": 39,
   "metadata": {},
   "outputs": [],
   "source": [
    "def get_completion(prompt, model=\"gpt-3.5-turbo\"):\n",
    "    messages = [{\"role\": \"user\", \"content\": prompt}]\n",
    "    response = openai.ChatCompletion.create(\n",
    "        model=model,\n",
    "        messages=messages,\n",
    "        temperature=0, # this is the degree of randomness of the model's output\n",
    "    )\n",
    "    return response.choices[0].message[\"content\"]"
   ]
  },
  {
   "cell_type": "markdown",
   "metadata": {},
   "source": [
    "Fire protection equipment supplier\n",
    "Corporate campus\n",
    "Bank\n",
    "Recreation\n",
    "Driveshaft shop\n",
    "Bookbinder\n",
    "Airline ticket agency\n",
    "Charity\n",
    "News service\n",
    "Wholesale bakery\n",
    "Weather forecast service\n",
    "Locks supplier\n",
    "Estate appraiser\n",
    "Pallet supplier\n",
    "Cuban\n",
    "Home Energy Auditors\n",
    "Steel construction company\n",
    "Model portfolio studio\n",
    "Shanghainese\n",
    "City administration\n",
    "Foundry\n",
    "Holding company\n"
   ]
  },
  {
   "cell_type": "code",
   "execution_count": 75,
   "metadata": {},
   "outputs": [],
   "source": [
    "label = \"\"\"Steel construction company\n",
    "\n",
    "\"\"\""
   ]
  },
  {
   "cell_type": "code",
   "execution_count": 76,
   "metadata": {},
   "outputs": [
    {
     "name": "stdout",
     "output_type": "stream",
     "text": [
      "Industry\n"
     ]
    }
   ],
   "source": [
    "prompt = f\"\"\"\n",
    "I have the following label: '''{label}'''\n",
    "Please analyze and tell me which of the following categories it best fits into. If the label is empty, please return \"Uncategorized\" and nothing else. You must choose one of these 14 categories and return the category name exactly as it appears in the list:\n",
    "1. Restaurants\n",
    "2. Shopping\n",
    "3. Health and Beauty\n",
    "4. Rental Services\n",
    "5. Tourism\n",
    "6. Entertainment\n",
    "7. Health and Hospitals\n",
    "8. Sports\n",
    "9. Arts and Crafts\n",
    "10. Events and Weddings\n",
    "11. Automotive (Cars, Boats, Transportation, Planes)\n",
    "12. Education and Learning\n",
    "13. Veterinary and Pets\n",
    "14. Gardening and Home Services\n",
    "15. Technology, Networks, Electronics, and Engineering\n",
    "16. Industry\n",
    "17. Professional Services\n",
    "18. Other\n",
    "\n",
    "\"\"\"\n",
    "response = get_completion(prompt)\n",
    "print(response)"
   ]
  },
  {
   "cell_type": "code",
   "execution_count": 20,
   "metadata": {},
   "outputs": [],
   "source": [
    "unicos_sample = unicos.sample(n=10, random_state=42)"
   ]
  },
  {
   "cell_type": "markdown",
   "metadata": {},
   "source": [
    "#prueba con dataset"
   ]
  },
  {
   "cell_type": "code",
   "execution_count": null,
   "metadata": {},
   "outputs": [],
   "source": [
    "#%pip install retry"
   ]
  },
  {
   "cell_type": "code",
   "execution_count": 12,
   "metadata": {},
   "outputs": [],
   "source": [
    "from retry import retry"
   ]
  },
  {
   "cell_type": "code",
   "execution_count": 13,
   "metadata": {},
   "outputs": [],
   "source": [
    "@retry(exceptions=openai.error.OpenAIError, tries=3, delay=2, backoff=2)\n",
    "def get_completion(prompt, model=\"gpt-3.5-turbo\"):\n",
    "    messages = [{\"role\": \"user\", \"content\": prompt}]\n",
    "    response = openai.ChatCompletion.create(\n",
    "        model=model,\n",
    "        messages=messages,\n",
    "        temperature=0, # this is the degree of randomness of the model's output\n",
    "    )\n",
    "    return response.choices[0].message[\"content\"]"
   ]
  },
  {
   "cell_type": "code",
   "execution_count": 22,
   "metadata": {},
   "outputs": [],
   "source": [
    "# Aplicar la función a la columna 'categories' y crear una nueva columna 'lines'\n",
    "unicos_sample['lines'] = unicos_sample['categories'].apply(lambda label: get_completion(f\"I have the following label: '{label}'\\nPlease categorize it into one of the following options, or choose 'Uncategorized' if the label is empty: :\\n1. Restaurants\\n2. Shopping\\n3. Health and Beauty\\n4. Rental Services\\n5. Tourism\\n6. Entertainment\\n7. Health and Hospitals\\n8. Sports\\n9. Arts and Crafts\\n10. Events and Weddings\\n11. Automotive (Cars, Boats, Transportation, Planes)\\n12. Education and Learning\\n13. Veterinary and Pets\\n14. Miscellaneous\"))\n"
   ]
  },
  {
   "cell_type": "code",
   "execution_count": 23,
   "metadata": {},
   "outputs": [
    {
     "data": {
      "text/plain": [
       "11440              Uncategorized\n",
       "3542                 2. Shopping\n",
       "907      7. Health and Hospitals\n",
       "2833          4. Rental Services\n",
       "3106        3. Health and Beauty\n",
       "Name: lines, dtype: object"
      ]
     },
     "execution_count": 23,
     "metadata": {},
     "output_type": "execute_result"
    }
   ],
   "source": [
    "unicos_sample.lines.head()"
   ]
  },
  {
   "cell_type": "markdown",
   "metadata": {},
   "source": [
    "#divido el dataframe en 10 para procesar por partes:"
   ]
  },
  {
   "cell_type": "code",
   "execution_count": 43,
   "metadata": {},
   "outputs": [
    {
     "name": "stdout",
     "output_type": "stream",
     "text": [
      "Subconjunto 1 guardado como subset_1.csv\n",
      "Subconjunto 2 guardado como subset_2.csv\n",
      "Subconjunto 3 guardado como subset_3.csv\n",
      "Subconjunto 4 guardado como subset_4.csv\n",
      "Subconjunto 5 guardado como subset_5.csv\n",
      "Subconjunto 6 guardado como subset_6.csv\n",
      "Subconjunto 7 guardado como subset_7.csv\n",
      "Subconjunto 8 guardado como subset_8.csv\n",
      "Subconjunto 9 guardado como subset_9.csv\n",
      "Subconjunto 10 guardado como subset_10.csv\n",
      "Subconjunto 11 guardado como subset_11.csv\n",
      "Subconjunto 12 guardado como subset_12.csv\n",
      "Subconjunto 13 guardado como subset_13.csv\n",
      "Subconjunto 14 guardado como subset_14.csv\n",
      "Subconjunto 15 guardado como subset_15.csv\n",
      "Subconjunto 16 guardado como subset_16.csv\n",
      "Subconjunto 17 guardado como subset_17.csv\n",
      "Subconjunto 18 guardado como subset_18.csv\n",
      "Subconjunto 19 guardado como subset_19.csv\n",
      "Subconjunto 20 guardado como subset_20.csv\n",
      "Subconjunto 21 guardado como subset_21.csv\n",
      "Subconjunto 22 guardado como subset_22.csv\n",
      "Subconjunto 23 guardado como subset_23.csv\n",
      "Subconjunto 24 guardado como subset_24.csv\n",
      "Subconjunto 25 guardado como subset_25.csv\n",
      "Subconjunto 26 guardado como subset_26.csv\n",
      "Subconjunto 27 guardado como subset_27.csv\n",
      "Subconjunto 28 guardado como subset_28.csv\n",
      "Subconjunto 29 guardado como subset_29.csv\n",
      "Subconjunto 30 guardado como subset_30.csv\n",
      "Subconjunto 31 guardado como subset_31.csv\n",
      "Subconjunto 32 guardado como subset_32.csv\n",
      "Subconjunto 33 guardado como subset_33.csv\n",
      "Subconjunto 34 guardado como subset_34.csv\n",
      "Subconjunto 35 guardado como subset_35.csv\n",
      "Subconjunto 36 guardado como subset_36.csv\n",
      "Subconjunto 37 guardado como subset_37.csv\n",
      "Subconjunto 38 guardado como subset_38.csv\n",
      "Subconjunto 39 guardado como subset_39.csv\n",
      "Subconjunto 40 guardado como subset_40.csv\n",
      "Subconjunto 41 guardado como subset_41.csv\n",
      "Subconjunto 42 guardado como subset_42.csv\n",
      "Subconjunto 43 guardado como subset_43.csv\n",
      "Subconjunto 44 guardado como subset_44.csv\n",
      "Subconjunto 45 guardado como subset_45.csv\n",
      "Subconjunto 46 guardado como subset_46.csv\n",
      "Subconjunto 47 guardado como subset_47.csv\n",
      "Subconjunto 48 guardado como subset_48.csv\n",
      "Subconjunto 49 guardado como subset_49.csv\n",
      "Subconjunto 50 guardado como subset_50.csv\n"
     ]
    }
   ],
   "source": [
    "full_dataset = unicos.copy()\n",
    "\n",
    "# Obtener el número de registros por conjunto más pequeño\n",
    "num_subsets = 50\n",
    "subset_size = len(full_dataset) // num_subsets\n",
    "\n",
    "# Mezclar el dataset para garantizar una distribución aleatoria en cada subconjunto\n",
    "shuffled_dataset = full_dataset.sample(frac=1, random_state=42)\n",
    "\n",
    "# Dividir el dataset en subconjuntos más pequeños\n",
    "subsets = [shuffled_dataset[i * subset_size : (i + 1) * subset_size] for i in range(num_subsets)]\n",
    "\n",
    "# Guardar cada subconjunto como archivo CSV\n",
    "for i, subset in enumerate(subsets):\n",
    "    subset.to_csv(f'subset_{i + 1}.csv', index=False)\n",
    "    print(f'Subconjunto {i + 1} guardado como subset_{i + 1}.csv')"
   ]
  },
  {
   "cell_type": "code",
   "execution_count": 15,
   "metadata": {},
   "outputs": [],
   "source": [
    "import time"
   ]
  },
  {
   "cell_type": "code",
   "execution_count": 79,
   "metadata": {},
   "outputs": [],
   "source": [
    "for i in range(40,50,1):\n",
    "    data = pd.read_csv(f'subset_{i+1}.csv', header=None, names=['categories'])\n",
    "    data = data.drop(0)\n",
    "    data['lines'] = data['categories'].apply(lambda label: get_completion(f\"I have the following label: '{label}'\\nPlease categorize it into one of the following options: :\\n1. Restaurants\\n2. Shopping\\n3. Health and Beauty\\n4. Rental Services\\n5. Tourism\\n6. Entertainment\\n7. Health and Hospitals\\n8. Sports\\n9. Arts and Crafts\\n10. Events and Weddings\\n11. Automotive (Cars, Boats, Transportation, Planes)\\n12. Education and Learning\\n13. Veterinary and Pets\\n14. Miscellaneous\\nOnly return the option selected. The return expected is for example 'N. Option', no more addtional text or information is required\"))\n",
    "    data.to_csv(f'subset_{i+1}_procesado.csv')\n",
    "    time.sleep(30)"
   ]
  },
  {
   "cell_type": "code",
   "execution_count": 80,
   "metadata": {},
   "outputs": [
    {
     "data": {
      "text/html": [
       "<div>\n",
       "<style scoped>\n",
       "    .dataframe tbody tr th:only-of-type {\n",
       "        vertical-align: middle;\n",
       "    }\n",
       "\n",
       "    .dataframe tbody tr th {\n",
       "        vertical-align: top;\n",
       "    }\n",
       "\n",
       "    .dataframe thead th {\n",
       "        text-align: right;\n",
       "    }\n",
       "</style>\n",
       "<table border=\"1\" class=\"dataframe\">\n",
       "  <thead>\n",
       "    <tr style=\"text-align: right;\">\n",
       "      <th></th>\n",
       "      <th>Unnamed: 0</th>\n",
       "      <th>categories</th>\n",
       "      <th>lines</th>\n",
       "    </tr>\n",
       "  </thead>\n",
       "  <tbody>\n",
       "    <tr>\n",
       "      <th>0</th>\n",
       "      <td>1</td>\n",
       "      <td>Aquarium shop</td>\n",
       "      <td>2. Shopping</td>\n",
       "    </tr>\n",
       "    <tr>\n",
       "      <th>1</th>\n",
       "      <td>2</td>\n",
       "      <td>Ravine</td>\n",
       "      <td>14. Miscellaneous</td>\n",
       "    </tr>\n",
       "    <tr>\n",
       "      <th>2</th>\n",
       "      <td>3</td>\n",
       "      <td>Refrigerator store</td>\n",
       "      <td>2. Shopping</td>\n",
       "    </tr>\n",
       "    <tr>\n",
       "      <th>3</th>\n",
       "      <td>4</td>\n",
       "      <td>Photo agency</td>\n",
       "      <td>14. Miscellaneous</td>\n",
       "    </tr>\n",
       "    <tr>\n",
       "      <th>4</th>\n",
       "      <td>5</td>\n",
       "      <td>Public transportation system</td>\n",
       "      <td>14. Miscellaneous</td>\n",
       "    </tr>\n",
       "  </tbody>\n",
       "</table>\n",
       "</div>"
      ],
      "text/plain": [
       "   Unnamed: 0                    categories              lines\n",
       "0           1                 Aquarium shop        2. Shopping\n",
       "1           2                        Ravine  14. Miscellaneous\n",
       "2           3            Refrigerator store        2. Shopping\n",
       "3           4                  Photo agency  14. Miscellaneous\n",
       "4           5  Public transportation system  14. Miscellaneous"
      ]
     },
     "execution_count": 80,
     "metadata": {},
     "output_type": "execute_result"
    }
   ],
   "source": [
    "datax = pd.read_csv('subset_50_procesado.csv')\n",
    "datax.head()"
   ]
  },
  {
   "cell_type": "code",
   "execution_count": 81,
   "metadata": {},
   "outputs": [
    {
     "data": {
      "text/plain": [
       "lines\n",
       "14. Miscellaneous                                       27\n",
       "9. Arts and Crafts                                      11\n",
       "11. Automotive (Cars, Boats, Transportation, Planes)    10\n",
       "2. Shopping                                              8\n",
       "1. Restaurants                                           7\n",
       "12. Education and Learning                               6\n",
       "4. Rental Services                                       6\n",
       "5. Tourism                                               5\n",
       "8. Sports                                                5\n",
       "3. Health and Beauty                                     4\n",
       "7. Health and Hospitals                                  4\n",
       "13. Veterinary and Pets                                  3\n",
       "10. Events and Weddings                                  1\n",
       "6. Entertainment                                         1\n",
       "Name: count, dtype: int64"
      ]
     },
     "execution_count": 81,
     "metadata": {},
     "output_type": "execute_result"
    }
   ],
   "source": [
    "datax.lines.value_counts()"
   ]
  },
  {
   "cell_type": "markdown",
   "metadata": {},
   "source": [
    "#combinar ahora todas las partes"
   ]
  },
  {
   "cell_type": "code",
   "execution_count": 85,
   "metadata": {},
   "outputs": [],
   "source": [
    "# Lista para almacenar los DataFrames de los subconjuntos\n",
    "subsets = []\n",
    "\n",
    "# Cargar y concatenar los subconjuntos\n",
    "num_subsets = 50\n",
    "for i in range(num_subsets):\n",
    "    subset = pd.read_csv(f'subset_{i + 1}_procesado.csv')\n",
    "    subsets.append(subset)\n",
    "\n",
    "# Concatenar los DataFrames en un solo DataFrame\n",
    "combined_df = pd.concat(subsets, ignore_index=True, axis=0)"
   ]
  },
  {
   "cell_type": "code",
   "execution_count": 86,
   "metadata": {},
   "outputs": [
    {
     "data": {
      "text/html": [
       "<div>\n",
       "<style scoped>\n",
       "    .dataframe tbody tr th:only-of-type {\n",
       "        vertical-align: middle;\n",
       "    }\n",
       "\n",
       "    .dataframe tbody tr th {\n",
       "        vertical-align: top;\n",
       "    }\n",
       "\n",
       "    .dataframe thead th {\n",
       "        text-align: right;\n",
       "    }\n",
       "</style>\n",
       "<table border=\"1\" class=\"dataframe\">\n",
       "  <thead>\n",
       "    <tr style=\"text-align: right;\">\n",
       "      <th></th>\n",
       "      <th>Unnamed: 0</th>\n",
       "      <th>categories</th>\n",
       "      <th>lines</th>\n",
       "    </tr>\n",
       "  </thead>\n",
       "  <tbody>\n",
       "    <tr>\n",
       "      <th>0</th>\n",
       "      <td>1</td>\n",
       "      <td>Military airport</td>\n",
       "      <td>11. Automotive (Cars, Boats, Transportation, Planes)</td>\n",
       "    </tr>\n",
       "    <tr>\n",
       "      <th>1</th>\n",
       "      <td>2</td>\n",
       "      <td>Mirror shop</td>\n",
       "      <td>2. Shopping</td>\n",
       "    </tr>\n",
       "    <tr>\n",
       "      <th>2</th>\n",
       "      <td>3</td>\n",
       "      <td>Foster care service</td>\n",
       "      <td>7. Health and Hospitals</td>\n",
       "    </tr>\n",
       "    <tr>\n",
       "      <th>3</th>\n",
       "      <td>4</td>\n",
       "      <td>Holiday home</td>\n",
       "      <td>4. Rental Services</td>\n",
       "    </tr>\n",
       "    <tr>\n",
       "      <th>4</th>\n",
       "      <td>5</td>\n",
       "      <td>Dental laboratory</td>\n",
       "      <td>3. Health and Beauty</td>\n",
       "    </tr>\n",
       "    <tr>\n",
       "      <th>5</th>\n",
       "      <td>6</td>\n",
       "      <td>Rehabilitation</td>\n",
       "      <td>7. Health and Hospitals</td>\n",
       "    </tr>\n",
       "    <tr>\n",
       "      <th>6</th>\n",
       "      <td>7</td>\n",
       "      <td>Mining equipment</td>\n",
       "      <td>14. Miscellaneous</td>\n",
       "    </tr>\n",
       "    <tr>\n",
       "      <th>7</th>\n",
       "      <td>8</td>\n",
       "      <td>Movie theater</td>\n",
       "      <td>6. Entertainment</td>\n",
       "    </tr>\n",
       "    <tr>\n",
       "      <th>8</th>\n",
       "      <td>9</td>\n",
       "      <td>American (Traditional)</td>\n",
       "      <td>1. Restaurants</td>\n",
       "    </tr>\n",
       "    <tr>\n",
       "      <th>9</th>\n",
       "      <td>10</td>\n",
       "      <td>Ranches</td>\n",
       "      <td>14. Miscellaneous</td>\n",
       "    </tr>\n",
       "  </tbody>\n",
       "</table>\n",
       "</div>"
      ],
      "text/plain": [
       "   Unnamed: 0              categories  \\\n",
       "0           1        Military airport   \n",
       "1           2             Mirror shop   \n",
       "2           3     Foster care service   \n",
       "3           4            Holiday home   \n",
       "4           5       Dental laboratory   \n",
       "5           6          Rehabilitation   \n",
       "6           7        Mining equipment   \n",
       "7           8           Movie theater   \n",
       "8           9  American (Traditional)   \n",
       "9          10                 Ranches   \n",
       "\n",
       "                                                  lines  \n",
       "0  11. Automotive (Cars, Boats, Transportation, Planes)  \n",
       "1                                           2. Shopping  \n",
       "2                               7. Health and Hospitals  \n",
       "3                                    4. Rental Services  \n",
       "4                                  3. Health and Beauty  \n",
       "5                               7. Health and Hospitals  \n",
       "6                                     14. Miscellaneous  \n",
       "7                                      6. Entertainment  \n",
       "8                                        1. Restaurants  \n",
       "9                                     14. Miscellaneous  "
      ]
     },
     "execution_count": 86,
     "metadata": {},
     "output_type": "execute_result"
    }
   ],
   "source": [
    "combined_df.head(10)"
   ]
  },
  {
   "cell_type": "code",
   "execution_count": 87,
   "metadata": {},
   "outputs": [
    {
     "data": {
      "text/plain": [
       "(4900, 3)"
      ]
     },
     "execution_count": 87,
     "metadata": {},
     "output_type": "execute_result"
    }
   ],
   "source": [
    "combined_df.shape"
   ]
  },
  {
   "cell_type": "code",
   "execution_count": 88,
   "metadata": {},
   "outputs": [
    {
     "data": {
      "text/plain": [
       "lines\n",
       "14. Miscellaneous                                                                          1028\n",
       "7. Health and Hospitals                                                                     497\n",
       "2. Shopping                                                                                 483\n",
       "1. Restaurants                                                                              404\n",
       "8. Sports                                                                                   360\n",
       "11. Automotive (Cars, Boats, Transportation, Planes)                                        353\n",
       "6. Entertainment                                                                            287\n",
       "12. Education and Learning                                                                  282\n",
       "3. Health and Beauty                                                                        268\n",
       "4. Rental Services                                                                          240\n",
       "5. Tourism                                                                                  220\n",
       "9. Arts and Crafts                                                                          216\n",
       "13. Veterinary and Pets                                                                     210\n",
       "10. Events and Weddings                                                                      34\n",
       "Miscellaneous                                                                                 3\n",
       "The label 'Marketing' falls under the category of 'Miscellaneous'.                            1\n",
       "N. Community Service/Non-Profit                                                               1\n",
       "The label 'Services' falls under the category 'Miscellaneous'.                                1\n",
       "The label 'Food production' falls under the category 'Restaurants'.                           1\n",
       "The category for the label 'Food products' is 'Shopping'.                                     1\n",
       "The label 'Food manufacturer' falls under option 14. Miscellaneous.                           1\n",
       "Experiences falls under the category of 'Entertainment'.                                      1\n",
       "N. Option: Tourism                                                                            1\n",
       "The label 'Government economic program' falls under the category of 'Miscellaneous'.          1\n",
       "Arts and Crafts                                                                               1\n",
       "N. Option                                                                                     1\n",
       "The category for the label 'Kitchen' is 'Miscellaneous'.                                      1\n",
       "The label 'International trade consultant' falls under the category of 'Miscellaneous'.       1\n",
       "The label 'Residential area' falls under the category of 'Miscellaneous'.                     1\n",
       "The label 'Electronics' falls under option 2. Shopping.                                       1\n",
       "Name: count, dtype: int64"
      ]
     },
     "execution_count": 88,
     "metadata": {},
     "output_type": "execute_result"
    }
   ],
   "source": [
    "combined_df.lines.value_counts()"
   ]
  },
  {
   "cell_type": "code",
   "execution_count": 89,
   "metadata": {},
   "outputs": [],
   "source": [
    "combined_df.to_csv(\"combined_df.csv\")"
   ]
  },
  {
   "cell_type": "markdown",
   "metadata": {},
   "source": [
    "#Ahora rechequeo las miscelaneas:"
   ]
  },
  {
   "cell_type": "code",
   "execution_count": 7,
   "metadata": {},
   "outputs": [],
   "source": [
    "misc = pd.read_csv(\"combined_df_2.csv\", sep=';')"
   ]
  },
  {
   "cell_type": "code",
   "execution_count": 8,
   "metadata": {},
   "outputs": [
    {
     "data": {
      "text/html": [
       "<div>\n",
       "<style scoped>\n",
       "    .dataframe tbody tr th:only-of-type {\n",
       "        vertical-align: middle;\n",
       "    }\n",
       "\n",
       "    .dataframe tbody tr th {\n",
       "        vertical-align: top;\n",
       "    }\n",
       "\n",
       "    .dataframe thead th {\n",
       "        text-align: right;\n",
       "    }\n",
       "</style>\n",
       "<table border=\"1\" class=\"dataframe\">\n",
       "  <thead>\n",
       "    <tr style=\"text-align: right;\">\n",
       "      <th></th>\n",
       "      <th>categories</th>\n",
       "      <th>lines</th>\n",
       "    </tr>\n",
       "  </thead>\n",
       "  <tbody>\n",
       "    <tr>\n",
       "      <th>0</th>\n",
       "      <td>Military airport</td>\n",
       "      <td>11. Automotive (Cars, Boats, Transportation, P...</td>\n",
       "    </tr>\n",
       "    <tr>\n",
       "      <th>1</th>\n",
       "      <td>Mirror shop</td>\n",
       "      <td>2. Shopping</td>\n",
       "    </tr>\n",
       "    <tr>\n",
       "      <th>2</th>\n",
       "      <td>Foster care service</td>\n",
       "      <td>7. Health and Hospitals</td>\n",
       "    </tr>\n",
       "    <tr>\n",
       "      <th>3</th>\n",
       "      <td>Holiday home</td>\n",
       "      <td>4. Rental Services</td>\n",
       "    </tr>\n",
       "    <tr>\n",
       "      <th>4</th>\n",
       "      <td>Dental laboratory</td>\n",
       "      <td>3. Health and Beauty</td>\n",
       "    </tr>\n",
       "  </tbody>\n",
       "</table>\n",
       "</div>"
      ],
      "text/plain": [
       "            categories                                              lines\n",
       "0     Military airport  11. Automotive (Cars, Boats, Transportation, P...\n",
       "1          Mirror shop                                        2. Shopping\n",
       "2  Foster care service                            7. Health and Hospitals\n",
       "3         Holiday home                                 4. Rental Services\n",
       "4    Dental laboratory                               3. Health and Beauty"
      ]
     },
     "execution_count": 8,
     "metadata": {},
     "output_type": "execute_result"
    }
   ],
   "source": [
    "misc.head()"
   ]
  },
  {
   "cell_type": "code",
   "execution_count": 98,
   "metadata": {},
   "outputs": [],
   "source": [
    "solo_misc = misc[misc['lines']=='14. Miscellaneous']"
   ]
  },
  {
   "cell_type": "code",
   "execution_count": 99,
   "metadata": {},
   "outputs": [
    {
     "data": {
      "text/plain": [
       "(1038, 2)"
      ]
     },
     "execution_count": 99,
     "metadata": {},
     "output_type": "execute_result"
    }
   ],
   "source": [
    "solo_misc.shape"
   ]
  },
  {
   "cell_type": "markdown",
   "metadata": {},
   "source": [
    "#vuelvo a partirlo para que lo procese"
   ]
  },
  {
   "cell_type": "code",
   "execution_count": 100,
   "metadata": {},
   "outputs": [
    {
     "name": "stdout",
     "output_type": "stream",
     "text": [
      "Subconjunto 1 guardado como subset_1.csv\n",
      "Subconjunto 2 guardado como subset_2.csv\n",
      "Subconjunto 3 guardado como subset_3.csv\n",
      "Subconjunto 4 guardado como subset_4.csv\n",
      "Subconjunto 5 guardado como subset_5.csv\n",
      "Subconjunto 6 guardado como subset_6.csv\n",
      "Subconjunto 7 guardado como subset_7.csv\n",
      "Subconjunto 8 guardado como subset_8.csv\n",
      "Subconjunto 9 guardado como subset_9.csv\n",
      "Subconjunto 10 guardado como subset_10.csv\n",
      "Subconjunto 11 guardado como subset_11.csv\n",
      "Subconjunto 12 guardado como subset_12.csv\n",
      "Subconjunto 13 guardado como subset_13.csv\n",
      "Subconjunto 14 guardado como subset_14.csv\n",
      "Subconjunto 15 guardado como subset_15.csv\n",
      "Subconjunto 16 guardado como subset_16.csv\n",
      "Subconjunto 17 guardado como subset_17.csv\n",
      "Subconjunto 18 guardado como subset_18.csv\n",
      "Subconjunto 19 guardado como subset_19.csv\n",
      "Subconjunto 20 guardado como subset_20.csv\n"
     ]
    }
   ],
   "source": [
    "full_dataset = solo_misc.copy()\n",
    "\n",
    "# Obtener el número de registros por conjunto más pequeño\n",
    "num_subsets = 20\n",
    "subset_size = len(full_dataset) // num_subsets\n",
    "\n",
    "# Mezclar el dataset para garantizar una distribución aleatoria en cada subconjunto\n",
    "shuffled_dataset = full_dataset.sample(frac=1, random_state=42)\n",
    "\n",
    "# Dividir el dataset en subconjuntos más pequeños\n",
    "subsets = [shuffled_dataset[i * subset_size : (i + 1) * subset_size] for i in range(num_subsets)]\n",
    "\n",
    "# Guardar cada subconjunto como archivo CSV\n",
    "for i, subset in enumerate(subsets):\n",
    "    subset.to_csv(f'subset_misc_{i + 1}.csv', index=False)\n",
    "    print(f'Subconjunto {i + 1} guardado como subset_{i + 1}.csv')"
   ]
  },
  {
   "cell_type": "code",
   "execution_count": 20,
   "metadata": {},
   "outputs": [],
   "source": [
    "for i in range(20):\n",
    "    data = pd.read_csv(f'subset_misc_{i+1}.csv')\n",
    "    data['lines'] = data['categories'].apply(lambda label: get_completion(f\"I have the following label: '{label}'\\nPlease categorize it into one of the following options: :\\n1. Restaurants\\n2. Shopping\\n3. Health and Beauty\\n4. Rental Services\\n5. Tourism\\n6. Entertainment\\n7. Health and Hospitals\\n8. Sports\\n9. Arts and Crafts\\n10. Events and Weddings\\n11. Automotive (Cars, Boats, Transportation, Planes)\\n12. Education and Learning\\n13. Veterinary and Pets\\n14. Gardening and Home Services\\n15. Technology, Networks, Electronics, and Engineering\\n16. Industry\\n17. Professional Services\\n18. Other\\nOnly return the option selected. The return expected is for example 'N. Option', no more addtional text or information is required\"))\n",
    "    data.to_csv(f'subset_misc_{i+1}_procesado.csv')\n",
    "    time.sleep(30)"
   ]
  },
  {
   "cell_type": "code",
   "execution_count": 2,
   "metadata": {},
   "outputs": [],
   "source": [
    "# Lista para almacenar los DataFrames de los subconjuntos\n",
    "subsets = []\n",
    "\n",
    "# Cargar y concatenar los subconjuntos\n",
    "num_subsets = 20\n",
    "for i in range(num_subsets):\n",
    "    subset = pd.read_csv(f'subset_misc_{i + 1}_procesado.csv')\n",
    "    subsets.append(subset)\n",
    "\n",
    "# Concatenar los DataFrames en un solo DataFrame\n",
    "combined_df_misc = pd.concat(subsets, ignore_index=True, axis=0)"
   ]
  },
  {
   "cell_type": "code",
   "execution_count": 4,
   "metadata": {},
   "outputs": [
    {
     "data": {
      "text/plain": [
       "(1020, 3)"
      ]
     },
     "execution_count": 4,
     "metadata": {},
     "output_type": "execute_result"
    }
   ],
   "source": [
    "combined_df_misc.shape"
   ]
  },
  {
   "cell_type": "code",
   "execution_count": 5,
   "metadata": {},
   "outputs": [
    {
     "data": {
      "text/plain": [
       "lines\n",
       "17. Professional Services                                                                                                                                      303\n",
       "16. Industry                                                                                                                                                   205\n",
       "18. Other                                                                                                                                                      184\n",
       "14. Gardening and Home Services                                                                                                                                151\n",
       "15. Technology, Networks, Electronics, and Engineering                                                                                                         103\n",
       "5. Tourism                                                                                                                                                      26\n",
       "8. Sports                                                                                                                                                       17\n",
       "6. Entertainment                                                                                                                                                11\n",
       "1. Restaurants                                                                                                                                                   5\n",
       "4. Rental Services                                                                                                                                               4\n",
       "13. Veterinary and Pets                                                                                                                                          2\n",
       "3. Health and Beauty                                                                                                                                             2\n",
       "Advertising falls under the category of 'Professional Services'.                                                                                                 1\n",
       "The label 'Beverages' falls under option 1. Restaurants.                                                                                                         1\n",
       "The label 'Marketing' falls under the category of 'Professional Services'.                                                                                       1\n",
       "7. Health and Hospitals                                                                                                                                          1\n",
       "Based on the given label 'CSA', it does not clearly fit into any of the provided categories. Therefore, it falls under the category of 'Other' (Option 18).      1\n",
       "Transport interchange falls under the category of 'Automotive (Cars, Boats, Transportation, Planes)'.                                                            1\n",
       "9. Arts and Crafts                                                                                                                                               1\n",
       "Name: count, dtype: int64"
      ]
     },
     "execution_count": 5,
     "metadata": {},
     "output_type": "execute_result"
    }
   ],
   "source": [
    "combined_df_misc.lines.value_counts()"
   ]
  },
  {
   "cell_type": "code",
   "execution_count": 6,
   "metadata": {},
   "outputs": [],
   "source": [
    "combined_df_misc.to_csv(\"combined_df_misc.csv\")"
   ]
  },
  {
   "cell_type": "markdown",
   "metadata": {},
   "source": [
    "#Ahora vamos a unir ambas partes, primero elinamos los miscellaneus y luego le agregamos la 2da parte "
   ]
  },
  {
   "cell_type": "code",
   "execution_count": 10,
   "metadata": {},
   "outputs": [
    {
     "data": {
      "text/plain": [
       "lines\n",
       "14. Miscellaneous                                       1038\n",
       "7. Health and Hospitals                                  497\n",
       "2. Shopping                                              485\n",
       "1. Restaurants                                           405\n",
       "8. Sports                                                360\n",
       "11. Automotive (Cars, Boats, Transportation, Planes)     353\n",
       "6. Entertainment                                         288\n",
       "12. Education and Learning                               283\n",
       "3. Health and Beauty                                     268\n",
       "4. Rental Services                                       240\n",
       "5. Tourism                                               221\n",
       "9. Arts and Crafts                                       217\n",
       "13. Veterinary and Pets                                  210\n",
       "10. Events and Weddings                                   34\n",
       "Name: count, dtype: int64"
      ]
     },
     "execution_count": 10,
     "metadata": {},
     "output_type": "execute_result"
    }
   ],
   "source": [
    "inicial = pd.read_csv(\"combined_df_2.csv\", sep=';')\n",
    "inicial.lines.value_counts()"
   ]
  },
  {
   "cell_type": "code",
   "execution_count": 12,
   "metadata": {},
   "outputs": [
    {
     "data": {
      "text/plain": [
       "(4899, 2)"
      ]
     },
     "execution_count": 12,
     "metadata": {},
     "output_type": "execute_result"
    }
   ],
   "source": [
    "inicial.shape"
   ]
  },
  {
   "cell_type": "code",
   "execution_count": 11,
   "metadata": {},
   "outputs": [
    {
     "data": {
      "text/html": [
       "<div>\n",
       "<style scoped>\n",
       "    .dataframe tbody tr th:only-of-type {\n",
       "        vertical-align: middle;\n",
       "    }\n",
       "\n",
       "    .dataframe tbody tr th {\n",
       "        vertical-align: top;\n",
       "    }\n",
       "\n",
       "    .dataframe thead th {\n",
       "        text-align: right;\n",
       "    }\n",
       "</style>\n",
       "<table border=\"1\" class=\"dataframe\">\n",
       "  <thead>\n",
       "    <tr style=\"text-align: right;\">\n",
       "      <th></th>\n",
       "      <th>categories</th>\n",
       "      <th>lines</th>\n",
       "    </tr>\n",
       "  </thead>\n",
       "  <tbody>\n",
       "    <tr>\n",
       "      <th>0</th>\n",
       "      <td>Military airport</td>\n",
       "      <td>11. Automotive (Cars, Boats, Transportation, P...</td>\n",
       "    </tr>\n",
       "    <tr>\n",
       "      <th>1</th>\n",
       "      <td>Mirror shop</td>\n",
       "      <td>2. Shopping</td>\n",
       "    </tr>\n",
       "    <tr>\n",
       "      <th>2</th>\n",
       "      <td>Foster care service</td>\n",
       "      <td>7. Health and Hospitals</td>\n",
       "    </tr>\n",
       "    <tr>\n",
       "      <th>3</th>\n",
       "      <td>Holiday home</td>\n",
       "      <td>4. Rental Services</td>\n",
       "    </tr>\n",
       "    <tr>\n",
       "      <th>4</th>\n",
       "      <td>Dental laboratory</td>\n",
       "      <td>3. Health and Beauty</td>\n",
       "    </tr>\n",
       "  </tbody>\n",
       "</table>\n",
       "</div>"
      ],
      "text/plain": [
       "            categories                                              lines\n",
       "0     Military airport  11. Automotive (Cars, Boats, Transportation, P...\n",
       "1          Mirror shop                                        2. Shopping\n",
       "2  Foster care service                            7. Health and Hospitals\n",
       "3         Holiday home                                 4. Rental Services\n",
       "4    Dental laboratory                               3. Health and Beauty"
      ]
     },
     "execution_count": 11,
     "metadata": {},
     "output_type": "execute_result"
    }
   ],
   "source": [
    "inicial.head()"
   ]
  },
  {
   "cell_type": "code",
   "execution_count": 13,
   "metadata": {},
   "outputs": [],
   "source": [
    "inicial = inicial[inicial['lines'] != \"14. Miscellaneous\"]"
   ]
  },
  {
   "cell_type": "code",
   "execution_count": 14,
   "metadata": {},
   "outputs": [
    {
     "data": {
      "text/plain": [
       "(3861, 2)"
      ]
     },
     "execution_count": 14,
     "metadata": {},
     "output_type": "execute_result"
    }
   ],
   "source": [
    "inicial.shape"
   ]
  },
  {
   "cell_type": "code",
   "execution_count": 16,
   "metadata": {},
   "outputs": [
    {
     "data": {
      "text/html": [
       "<div>\n",
       "<style scoped>\n",
       "    .dataframe tbody tr th:only-of-type {\n",
       "        vertical-align: middle;\n",
       "    }\n",
       "\n",
       "    .dataframe tbody tr th {\n",
       "        vertical-align: top;\n",
       "    }\n",
       "\n",
       "    .dataframe thead th {\n",
       "        text-align: right;\n",
       "    }\n",
       "</style>\n",
       "<table border=\"1\" class=\"dataframe\">\n",
       "  <thead>\n",
       "    <tr style=\"text-align: right;\">\n",
       "      <th></th>\n",
       "      <th>categories</th>\n",
       "      <th>lines</th>\n",
       "    </tr>\n",
       "  </thead>\n",
       "  <tbody>\n",
       "    <tr>\n",
       "      <th>0</th>\n",
       "      <td>Military airport</td>\n",
       "      <td>11. Automotive (Cars, Boats, Transportation, P...</td>\n",
       "    </tr>\n",
       "  </tbody>\n",
       "</table>\n",
       "</div>"
      ],
      "text/plain": [
       "         categories                                              lines\n",
       "0  Military airport  11. Automotive (Cars, Boats, Transportation, P..."
      ]
     },
     "execution_count": 16,
     "metadata": {},
     "output_type": "execute_result"
    }
   ],
   "source": [
    "inicial.head(1)"
   ]
  },
  {
   "cell_type": "code",
   "execution_count": 17,
   "metadata": {},
   "outputs": [],
   "source": [
    "#cargo 2da parte:"
   ]
  },
  {
   "cell_type": "code",
   "execution_count": 19,
   "metadata": {},
   "outputs": [
    {
     "data": {
      "text/html": [
       "<div>\n",
       "<style scoped>\n",
       "    .dataframe tbody tr th:only-of-type {\n",
       "        vertical-align: middle;\n",
       "    }\n",
       "\n",
       "    .dataframe tbody tr th {\n",
       "        vertical-align: top;\n",
       "    }\n",
       "\n",
       "    .dataframe thead th {\n",
       "        text-align: right;\n",
       "    }\n",
       "</style>\n",
       "<table border=\"1\" class=\"dataframe\">\n",
       "  <thead>\n",
       "    <tr style=\"text-align: right;\">\n",
       "      <th></th>\n",
       "      <th>categories</th>\n",
       "      <th>lines</th>\n",
       "    </tr>\n",
       "  </thead>\n",
       "  <tbody>\n",
       "    <tr>\n",
       "      <th>0</th>\n",
       "      <td>Coal supplier</td>\n",
       "      <td>16. Industry</td>\n",
       "    </tr>\n",
       "  </tbody>\n",
       "</table>\n",
       "</div>"
      ],
      "text/plain": [
       "      categories         lines\n",
       "0  Coal supplier  16. Industry"
      ]
     },
     "execution_count": 19,
     "metadata": {},
     "output_type": "execute_result"
    }
   ],
   "source": [
    "segundo = pd.read_csv(\"combined_df_misc2.csv\", sep=';')\n",
    "segundo.head(1)"
   ]
  },
  {
   "cell_type": "code",
   "execution_count": 23,
   "metadata": {},
   "outputs": [
    {
     "data": {
      "text/plain": [
       "(1020, 2)"
      ]
     },
     "execution_count": 23,
     "metadata": {},
     "output_type": "execute_result"
    }
   ],
   "source": [
    "segundo.shape"
   ]
  },
  {
   "cell_type": "markdown",
   "metadata": {},
   "source": [
    "#Ahora los uno"
   ]
  },
  {
   "cell_type": "code",
   "execution_count": 20,
   "metadata": {},
   "outputs": [],
   "source": [
    "lines = pd.concat([inicial, segundo], ignore_index=True)"
   ]
  },
  {
   "cell_type": "code",
   "execution_count": 21,
   "metadata": {},
   "outputs": [
    {
     "data": {
      "text/html": [
       "<div>\n",
       "<style scoped>\n",
       "    .dataframe tbody tr th:only-of-type {\n",
       "        vertical-align: middle;\n",
       "    }\n",
       "\n",
       "    .dataframe tbody tr th {\n",
       "        vertical-align: top;\n",
       "    }\n",
       "\n",
       "    .dataframe thead th {\n",
       "        text-align: right;\n",
       "    }\n",
       "</style>\n",
       "<table border=\"1\" class=\"dataframe\">\n",
       "  <thead>\n",
       "    <tr style=\"text-align: right;\">\n",
       "      <th></th>\n",
       "      <th>categories</th>\n",
       "      <th>lines</th>\n",
       "    </tr>\n",
       "  </thead>\n",
       "  <tbody>\n",
       "    <tr>\n",
       "      <th>0</th>\n",
       "      <td>Military airport</td>\n",
       "      <td>11. Automotive (Cars, Boats, Transportation, P...</td>\n",
       "    </tr>\n",
       "    <tr>\n",
       "      <th>1</th>\n",
       "      <td>Mirror shop</td>\n",
       "      <td>2. Shopping</td>\n",
       "    </tr>\n",
       "    <tr>\n",
       "      <th>2</th>\n",
       "      <td>Foster care service</td>\n",
       "      <td>7. Health and Hospitals</td>\n",
       "    </tr>\n",
       "    <tr>\n",
       "      <th>3</th>\n",
       "      <td>Holiday home</td>\n",
       "      <td>4. Rental Services</td>\n",
       "    </tr>\n",
       "    <tr>\n",
       "      <th>4</th>\n",
       "      <td>Dental laboratory</td>\n",
       "      <td>3. Health and Beauty</td>\n",
       "    </tr>\n",
       "  </tbody>\n",
       "</table>\n",
       "</div>"
      ],
      "text/plain": [
       "            categories                                              lines\n",
       "0     Military airport  11. Automotive (Cars, Boats, Transportation, P...\n",
       "1          Mirror shop                                        2. Shopping\n",
       "2  Foster care service                            7. Health and Hospitals\n",
       "3         Holiday home                                 4. Rental Services\n",
       "4    Dental laboratory                               3. Health and Beauty"
      ]
     },
     "execution_count": 21,
     "metadata": {},
     "output_type": "execute_result"
    }
   ],
   "source": [
    "lines.head()"
   ]
  },
  {
   "cell_type": "code",
   "execution_count": 22,
   "metadata": {},
   "outputs": [
    {
     "data": {
      "text/plain": [
       "(4881, 2)"
      ]
     },
     "execution_count": 22,
     "metadata": {},
     "output_type": "execute_result"
    }
   ],
   "source": [
    "lines.shape"
   ]
  },
  {
   "cell_type": "code",
   "execution_count": 24,
   "metadata": {},
   "outputs": [
    {
     "data": {
      "text/plain": [
       "lines\n",
       "7. Health and Hospitals                                   498\n",
       "2. Shopping                                               485\n",
       "1. Restaurants                                            411\n",
       "8. Sports                                                 377\n",
       "11. Automotive (Cars, Boats, Transportation, Planes)      354\n",
       "17. Professional Services                                 305\n",
       "6. Entertainment                                          299\n",
       "12. Education and Learning                                283\n",
       "3. Health and Beauty                                      270\n",
       "5. Tourism                                                247\n",
       "4. Rental Services                                        244\n",
       "9. Arts and Crafts                                        218\n",
       "13. Veterinary and Pets                                   212\n",
       "16. Industry                                              205\n",
       "18. Other                                                 185\n",
       "14. Gardening and Home Services                           151\n",
       "15. Technology, Networks, Electronics, and Engineering    103\n",
       "10. Events and Weddings                                    34\n",
       "Name: count, dtype: int64"
      ]
     },
     "execution_count": 24,
     "metadata": {},
     "output_type": "execute_result"
    }
   ],
   "source": [
    "lines.lines.value_counts()"
   ]
  },
  {
   "cell_type": "code",
   "execution_count": 25,
   "metadata": {},
   "outputs": [],
   "source": [
    "lines.to_csv('lines_final.csv', index=False)"
   ]
  }
 ],
 "metadata": {
  "kernelspec": {
   "display_name": "myenv",
   "language": "python",
   "name": "python3"
  },
  "language_info": {
   "codemirror_mode": {
    "name": "ipython",
    "version": 3
   },
   "file_extension": ".py",
   "mimetype": "text/x-python",
   "name": "python",
   "nbconvert_exporter": "python",
   "pygments_lexer": "ipython3",
   "version": "3.11.4"
  },
  "orig_nbformat": 4
 },
 "nbformat": 4,
 "nbformat_minor": 2
}
