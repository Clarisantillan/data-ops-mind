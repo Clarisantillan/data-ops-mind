{
 "cells": [
  {
   "cell_type": "code",
   "execution_count": 153,
   "metadata": {},
   "outputs": [],
   "source": [
    "import pandas as pd\n",
    "import numpy as np"
   ]
  },
  {
   "cell_type": "code",
   "execution_count": 154,
   "metadata": {},
   "outputs": [],
   "source": [
    "datos = pd.read_csv('lines_final2.csv', sep=';') #archivo con las categorias unicas"
   ]
  },
  {
   "cell_type": "code",
   "execution_count": 155,
   "metadata": {},
   "outputs": [
    {
     "data": {
      "text/plain": [
       "(4903, 2)"
      ]
     },
     "execution_count": 155,
     "metadata": {},
     "output_type": "execute_result"
    }
   ],
   "source": [
    "datos.shape"
   ]
  },
  {
   "cell_type": "code",
   "execution_count": 156,
   "metadata": {},
   "outputs": [
    {
     "data": {
      "text/html": [
       "<div>\n",
       "<style scoped>\n",
       "    .dataframe tbody tr th:only-of-type {\n",
       "        vertical-align: middle;\n",
       "    }\n",
       "\n",
       "    .dataframe tbody tr th {\n",
       "        vertical-align: top;\n",
       "    }\n",
       "\n",
       "    .dataframe thead th {\n",
       "        text-align: right;\n",
       "    }\n",
       "</style>\n",
       "<table border=\"1\" class=\"dataframe\">\n",
       "  <thead>\n",
       "    <tr style=\"text-align: right;\">\n",
       "      <th></th>\n",
       "      <th>categories</th>\n",
       "      <th>lines</th>\n",
       "    </tr>\n",
       "  </thead>\n",
       "  <tbody>\n",
       "    <tr>\n",
       "      <th>0</th>\n",
       "      <td>Military airport</td>\n",
       "      <td>Automotive</td>\n",
       "    </tr>\n",
       "  </tbody>\n",
       "</table>\n",
       "</div>"
      ],
      "text/plain": [
       "         categories       lines\n",
       "0  Military airport  Automotive"
      ]
     },
     "execution_count": 156,
     "metadata": {},
     "output_type": "execute_result"
    }
   ],
   "source": [
    "datos.head(1)"
   ]
  },
  {
   "cell_type": "code",
   "execution_count": 157,
   "metadata": {},
   "outputs": [
    {
     "data": {
      "text/plain": [
       "lines\n",
       "Health and Hospitals                                  498\n",
       "Shopping                                              489\n",
       "Restaurants                                           440\n",
       "Sports                                                377\n",
       "Automotive                                            355\n",
       "Professional Services                                 308\n",
       "Entertainment                                         300\n",
       "Education and Learning                                283\n",
       "Health and Beauty                                     270\n",
       "Tourism                                               249\n",
       "Rental Services                                       244\n",
       "Arts and Crafts                                       219\n",
       "Veterinary and Pets                                   212\n",
       "Industry                                              211\n",
       "Other                                                 159\n",
       "Gardening and Home Services                           151\n",
       "Technology, Networks, Electronics, and Engineering    104\n",
       "Events and Weddings                                    34\n",
       "Name: count, dtype: int64"
      ]
     },
     "execution_count": 157,
     "metadata": {},
     "output_type": "execute_result"
    }
   ],
   "source": [
    "datos.lines.value_counts() #veo como se distribuyen las categorias unicas entre las lines"
   ]
  },
  {
   "cell_type": "code",
   "execution_count": 158,
   "metadata": {},
   "outputs": [],
   "source": [
    "#Creo un diccionario con lines y category\n",
    "categories_by_line = {}\n",
    "\n",
    "# Iterar a través del DataFrame para llenar el diccionario\n",
    "for index, row in datos.iterrows():\n",
    "    line = row['lines']\n",
    "    category = row['categories']\n",
    "    \n",
    "    if line in categories_by_line:\n",
    "        categories_by_line[line].append(category)\n",
    "    else:\n",
    "        categories_by_line[line] = [category]"
   ]
  },
  {
   "cell_type": "code",
   "execution_count": 159,
   "metadata": {},
   "outputs": [],
   "source": [
    "keys_list = list(categories_by_line.keys()) #una lista de los keys del diccionario"
   ]
  },
  {
   "cell_type": "markdown",
   "metadata": {},
   "source": [
    "#Aplico a cada dataset de estados:"
   ]
  },
  {
   "cell_type": "code",
   "execution_count": 160,
   "metadata": {},
   "outputs": [],
   "source": [
    "dataset = pd.read_parquet('TexasFinalCorregido.parquet')"
   ]
  },
  {
   "cell_type": "markdown",
   "metadata": {},
   "source": [
    "Creo la función para que pueda trabajar en forma de ciclo"
   ]
  },
  {
   "cell_type": "code",
   "execution_count": 161,
   "metadata": {},
   "outputs": [],
   "source": [
    "def evaluate_lines(row, key, categories_by_line):\n",
    "    category_list = row['category']\n",
    "    \n",
    "    if category_list is None or len(category_list) == 0:\n",
    "        return None\n",
    "    elif len(category_list) == 1 and category_list[0] in categories_by_line[key]:\n",
    "        return 1\n",
    "    else:\n",
    "        count = sum(1 for category in category_list if category in categories_by_line[key])\n",
    "        return 1 if count >= 2 else 0"
   ]
  },
  {
   "cell_type": "code",
   "execution_count": 162,
   "metadata": {},
   "outputs": [],
   "source": [
    "for key in keys_list:\n",
    "    dataset[key] = dataset.apply(evaluate_lines, args=(key, categories_by_line), axis=1)\n"
   ]
  },
  {
   "cell_type": "code",
   "execution_count": 163,
   "metadata": {},
   "outputs": [],
   "source": [
    "dataset['sumatoria'] = dataset[keys_list].sum(axis=1) #Creo una sumatoria de todas las columnas cargadas\n",
    "#esto es para ver si todos los dataset estan siendo categorizados a al menos 1 linea."
   ]
  },
  {
   "cell_type": "code",
   "execution_count": 164,
   "metadata": {},
   "outputs": [
    {
     "data": {
      "text/plain": [
       "sumatoria\n",
       "1.0    58732\n",
       "0.0     5368\n",
       "2.0     3078\n",
       "3.0      457\n",
       "4.0        9\n",
       "Name: count, dtype: int64"
      ]
     },
     "execution_count": 164,
     "metadata": {},
     "output_type": "execute_result"
    }
   ],
   "source": [
    "dataset.sumatoria.value_counts() #Veo la distribución por cantidad de lineas asignadas a cada negocio."
   ]
  },
  {
   "cell_type": "code",
   "execution_count": 165,
   "metadata": {},
   "outputs": [
    {
     "data": {
      "text/plain": [
       "(67644, 29)"
      ]
     },
     "execution_count": 165,
     "metadata": {},
     "output_type": "execute_result"
    }
   ],
   "source": [
    "dataset.shape #Shape del dataset para asegurar que todas las transformaciones se hagan correctamente."
   ]
  },
  {
   "cell_type": "markdown",
   "metadata": {},
   "source": [
    "Cambio un poco la funcion para los que no estan siendo clasificados. Hago un repaso."
   ]
  },
  {
   "cell_type": "code",
   "execution_count": 166,
   "metadata": {},
   "outputs": [],
   "source": [
    "#funcion de repaso para los ceros\n",
    "def evaluate_lines_repaso(row, key, categories_by_line):\n",
    "    category_list = row['category']\n",
    "    \n",
    "    if category_list is None or len(category_list) == 0:\n",
    "        return None\n",
    "    else:\n",
    "        count = sum(1 for category in category_list if category in categories_by_line[key])\n",
    "        return 1 if count >= 1 else 0"
   ]
  },
  {
   "cell_type": "code",
   "execution_count": 167,
   "metadata": {},
   "outputs": [],
   "source": [
    "zeros = dataset[dataset['sumatoria']==0].copy() #divido en dos partes una con los ceros y el complemento."
   ]
  },
  {
   "cell_type": "code",
   "execution_count": 168,
   "metadata": {},
   "outputs": [],
   "source": [
    "dataset = dataset[dataset['sumatoria']!=0]"
   ]
  },
  {
   "cell_type": "code",
   "execution_count": 169,
   "metadata": {},
   "outputs": [
    {
     "data": {
      "text/plain": [
       "67644"
      ]
     },
     "execution_count": 169,
     "metadata": {},
     "output_type": "execute_result"
    }
   ],
   "source": [
    "zeros.shape[0] + dataset.shape[0] #este numero debe ser igual al del dataset original"
   ]
  },
  {
   "cell_type": "code",
   "execution_count": 170,
   "metadata": {},
   "outputs": [],
   "source": [
    "#Elimino las columnas creadas por la funcion principal para que sean creadas nuevamente en el repaso.\n",
    "zeros = zeros.drop(['Automotive', 'Shopping',\n",
    "       'Health and Hospitals', 'Rental Services', 'Health and Beauty',\n",
    "       'Entertainment', 'Restaurants', 'Tourism', 'Veterinary and Pets',\n",
    "       'Education and Learning', 'Sports', 'Arts and Crafts',\n",
    "       'Events and Weddings', 'Industry',\n",
    "       'Technology, Networks, Electronics, and Engineering',\n",
    "       'Professional Services', 'Gardening and Home Services', 'Other',\n",
    "       'sumatoria'],axis=1)"
   ]
  },
  {
   "cell_type": "code",
   "execution_count": 171,
   "metadata": {},
   "outputs": [],
   "source": [
    "#Aplico la función de repaso.\n",
    "for key in keys_list:\n",
    "    zeros[key] = zeros.apply(evaluate_lines_repaso, args=(key, categories_by_line), axis=1)"
   ]
  },
  {
   "cell_type": "code",
   "execution_count": 172,
   "metadata": {},
   "outputs": [],
   "source": [
    "#Vuelvo a crear la columna sumatoria.\n",
    "zeros['sumatoria'] = zeros[keys_list].sum(axis=1)"
   ]
  },
  {
   "cell_type": "code",
   "execution_count": 173,
   "metadata": {},
   "outputs": [
    {
     "data": {
      "text/plain": [
       "sumatoria\n",
       "2.0    4182\n",
       "3.0     927\n",
       "4.0     176\n",
       "0.0      58\n",
       "5.0      20\n",
       "6.0       4\n",
       "1.0       1\n",
       "Name: count, dtype: int64"
      ]
     },
     "execution_count": 173,
     "metadata": {},
     "output_type": "execute_result"
    }
   ],
   "source": [
    "#Chequeo la distribución. Los 0.0 que siguen saliendo corresponden a los valores NoNe de la columna category\n",
    "zeros.sumatoria.value_counts()"
   ]
  },
  {
   "cell_type": "markdown",
   "metadata": {},
   "source": [
    "#Uno ambas partes del dataframe original"
   ]
  },
  {
   "cell_type": "code",
   "execution_count": 174,
   "metadata": {},
   "outputs": [],
   "source": [
    "dataset_final = pd.concat([zeros, dataset], ignore_index=True, axis=0)"
   ]
  },
  {
   "cell_type": "code",
   "execution_count": 175,
   "metadata": {},
   "outputs": [
    {
     "data": {
      "text/plain": [
       "(67644, 29)"
      ]
     },
     "execution_count": 175,
     "metadata": {},
     "output_type": "execute_result"
    }
   ],
   "source": [
    "dataset_final.shape"
   ]
  },
  {
   "cell_type": "markdown",
   "metadata": {},
   "source": [
    "dataset_final.columns"
   ]
  },
  {
   "cell_type": "code",
   "execution_count": 176,
   "metadata": {},
   "outputs": [
    {
     "data": {
      "text/plain": [
       "Index(['identificador', 'name', 'address', 'category', 'latitude', 'longitude',\n",
       "       'avg_rating', 'hours', 'reviews', 'source', 'Automotive', 'Shopping',\n",
       "       'Health and Hospitals', 'Rental Services', 'Health and Beauty',\n",
       "       'Entertainment', 'Restaurants', 'Tourism', 'Veterinary and Pets',\n",
       "       'Education and Learning', 'Sports', 'Arts and Crafts',\n",
       "       'Events and Weddings', 'Industry',\n",
       "       'Technology, Networks, Electronics, and Engineering',\n",
       "       'Professional Services', 'Gardening and Home Services', 'Other',\n",
       "       'sumatoria'],\n",
       "      dtype='object')"
      ]
     },
     "execution_count": 176,
     "metadata": {},
     "output_type": "execute_result"
    }
   ],
   "source": [
    "dataset_final.columns"
   ]
  },
  {
   "cell_type": "markdown",
   "metadata": {},
   "source": [
    "#vamos a crear la columna line vacia y luego le agrego el valor que corresponda."
   ]
  },
  {
   "cell_type": "code",
   "execution_count": 177,
   "metadata": {},
   "outputs": [],
   "source": [
    "dataset_final['line'] = ''"
   ]
  },
  {
   "cell_type": "code",
   "execution_count": 178,
   "metadata": {},
   "outputs": [],
   "source": [
    "columnas = ['Automotive', 'Shopping',\n",
    "       'Health and Hospitals', 'Rental Services', 'Health and Beauty',\n",
    "       'Entertainment', 'Restaurants', 'Tourism', 'Veterinary and Pets',\n",
    "       'Education and Learning', 'Sports', 'Arts and Crafts',\n",
    "       'Events and Weddings', 'Industry',\n",
    "       'Technology, Networks, Electronics, and Engineering',\n",
    "       'Professional Services', 'Gardening and Home Services', 'Other']"
   ]
  },
  {
   "cell_type": "code",
   "execution_count": 179,
   "metadata": {},
   "outputs": [],
   "source": [
    "#Filtro los que en sumatoria tienen 1 y les agrego el valor en el que la columna tiene 1:\n",
    "filtered_rows = dataset_final[dataset_final['sumatoria'] == 1]\n",
    "\n",
    "for index, row in filtered_rows.iterrows():\n",
    "    categories_with_one = row[columnas].index[row[columnas] == 1]\n",
    "    categories_with_one = \", \".join(categories_with_one)\n",
    "    dataset_final.at[index, 'line'] = categories_with_one"
   ]
  },
  {
   "cell_type": "code",
   "execution_count": 180,
   "metadata": {},
   "outputs": [
    {
     "data": {
      "text/plain": [
       "line\n",
       "Health and Beauty                                     9110\n",
       "                                                      8911\n",
       "Automotive                                            8811\n",
       "Shopping                                              8560\n",
       "Restaurants                                           7370\n",
       "Health and Hospitals                                  5246\n",
       "Rental Services                                       5002\n",
       "Professional Services                                 2714\n",
       "Veterinary and Pets                                   2436\n",
       "Sports                                                2256\n",
       "Tourism                                               1864\n",
       "Education and Learning                                1076\n",
       "Entertainment                                         1018\n",
       "Gardening and Home Services                            726\n",
       "Other                                                  642\n",
       "Arts and Crafts                                        626\n",
       "Events and Weddings                                    524\n",
       "Industry                                               434\n",
       "Technology, Networks, Electronics, and Engineering     318\n",
       "Name: count, dtype: int64"
      ]
     },
     "execution_count": 180,
     "metadata": {},
     "output_type": "execute_result"
    }
   ],
   "source": [
    "dataset_final.line.value_counts()"
   ]
  },
  {
   "cell_type": "code",
   "execution_count": 181,
   "metadata": {},
   "outputs": [],
   "source": [
    "#Filtro los que en sumatoria tienen 0 y los agrego a Other\n",
    "dataset_final.loc[dataset_final['sumatoria'] == 0, 'line'] = 'Other'"
   ]
  },
  {
   "cell_type": "code",
   "execution_count": 182,
   "metadata": {},
   "outputs": [
    {
     "data": {
      "text/plain": [
       "line\n",
       "Health and Beauty                                     9110\n",
       "                                                      8853\n",
       "Automotive                                            8811\n",
       "Shopping                                              8560\n",
       "Restaurants                                           7370\n",
       "Health and Hospitals                                  5246\n",
       "Rental Services                                       5002\n",
       "Professional Services                                 2714\n",
       "Veterinary and Pets                                   2436\n",
       "Sports                                                2256\n",
       "Tourism                                               1864\n",
       "Education and Learning                                1076\n",
       "Entertainment                                         1018\n",
       "Gardening and Home Services                            726\n",
       "Other                                                  700\n",
       "Arts and Crafts                                        626\n",
       "Events and Weddings                                    524\n",
       "Industry                                               434\n",
       "Technology, Networks, Electronics, and Engineering     318\n",
       "Name: count, dtype: int64"
      ]
     },
     "execution_count": 182,
     "metadata": {},
     "output_type": "execute_result"
    }
   ],
   "source": [
    "dataset_final.line.value_counts()"
   ]
  },
  {
   "cell_type": "code",
   "execution_count": 183,
   "metadata": {},
   "outputs": [],
   "source": [
    "#Los que tengan mas de una line.\n",
    "filtered_rows = dataset_final[dataset_final['sumatoria'] > 1]\n",
    "\n",
    "# Iterar a través de las filas filtradas y agregar el nombre de la primera columna con valor 1 a 'line'\n",
    "for index, row in filtered_rows.iterrows():\n",
    "    categories_with_one = row[columnas].index[row[columnas] == 1]\n",
    "    first_category_with_one = categories_with_one[0] if len(categories_with_one) > 0 else ''\n",
    "    dataset_final.at[index, 'line'] = first_category_with_one"
   ]
  },
  {
   "cell_type": "code",
   "execution_count": 184,
   "metadata": {},
   "outputs": [
    {
     "data": {
      "text/plain": [
       "line\n",
       "Shopping                                              11289\n",
       "Automotive                                            10404\n",
       "Health and Beauty                                      9292\n",
       "Restaurants                                            7496\n",
       "Health and Hospitals                                   7241\n",
       "Rental Services                                        5470\n",
       "Veterinary and Pets                                    3071\n",
       "Professional Services                                  2907\n",
       "Sports                                                 2425\n",
       "Tourism                                                1981\n",
       "Entertainment                                          1336\n",
       "Education and Learning                                 1186\n",
       "Gardening and Home Services                             739\n",
       "Other                                                   700\n",
       "Arts and Crafts                                         679\n",
       "Industry                                                548\n",
       "Events and Weddings                                     540\n",
       "Technology, Networks, Electronics, and Engineering      340\n",
       "Name: count, dtype: int64"
      ]
     },
     "execution_count": 184,
     "metadata": {},
     "output_type": "execute_result"
    }
   ],
   "source": [
    "dataset_final.line.value_counts()"
   ]
  },
  {
   "cell_type": "markdown",
   "metadata": {},
   "source": [
    "#reordeno las columnas"
   ]
  },
  {
   "cell_type": "code",
   "execution_count": 185,
   "metadata": {},
   "outputs": [],
   "source": [
    "columnas = ['identificador', 'name', 'address', 'category', 'latitude', 'longitude',\n",
    "       'avg_rating', 'hours', 'reviews', 'source', 'line', 'Automotive', 'Shopping',\n",
    "       'Health and Hospitals', 'Rental Services', 'Health and Beauty',\n",
    "       'Entertainment', 'Restaurants', 'Tourism', 'Veterinary and Pets',\n",
    "       'Education and Learning', 'Sports', 'Arts and Crafts',\n",
    "       'Events and Weddings', 'Industry',\n",
    "       'Technology, Networks, Electronics, and Engineering',\n",
    "       'Professional Services', 'Gardening and Home Services', 'Other',\n",
    "       'sumatoria']"
   ]
  },
  {
   "cell_type": "code",
   "execution_count": 186,
   "metadata": {},
   "outputs": [],
   "source": [
    "dataset_final = dataset_final[columnas]"
   ]
  },
  {
   "cell_type": "code",
   "execution_count": 187,
   "metadata": {},
   "outputs": [
    {
     "data": {
      "text/plain": [
       "(67644, 30)"
      ]
     },
     "execution_count": 187,
     "metadata": {},
     "output_type": "execute_result"
    }
   ],
   "source": [
    "dataset_final.shape"
   ]
  },
  {
   "cell_type": "markdown",
   "metadata": {},
   "source": [
    "#Finalmente lo guardo como parquet"
   ]
  },
  {
   "cell_type": "code",
   "execution_count": 188,
   "metadata": {},
   "outputs": [],
   "source": [
    "dataset_final.to_parquet('texasconRUBRO.parquet', index=False)"
   ]
  }
 ],
 "metadata": {
  "kernelspec": {
   "display_name": "myenv",
   "language": "python",
   "name": "python3"
  },
  "language_info": {
   "codemirror_mode": {
    "name": "ipython",
    "version": 3
   },
   "file_extension": ".py",
   "mimetype": "text/x-python",
   "name": "python",
   "nbconvert_exporter": "python",
   "pygments_lexer": "ipython3",
   "version": "3.11.4"
  },
  "orig_nbformat": 4
 },
 "nbformat": 4,
 "nbformat_minor": 2
}
